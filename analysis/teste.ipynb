{
 "cells": [
  {
   "cell_type": "code",
   "execution_count": 5,
   "metadata": {},
   "outputs": [
    {
     "ename": "SyntaxError",
     "evalue": "unexpected character after line continuation character (637168390.py, line 3)",
     "output_type": "error",
     "traceback": [
      "\u001b[1;36m  Cell \u001b[1;32mIn[5], line 3\u001b[1;36m\u001b[0m\n\u001b[1;33m    from .\\src\\seasonally import SeasonallyInput\u001b[0m\n\u001b[1;37m           ^\u001b[0m\n\u001b[1;31mSyntaxError\u001b[0m\u001b[1;31m:\u001b[0m unexpected character after line continuation character\n"
     ]
    }
   ],
   "source": [
    "import pandas as pd\n",
    "from statsmodels.tsa.seasonal import seasonal_decompose\n",
    "from ..\\src\\seasonally import SeasonallyInput\n",
    "\n",
    "import warnings\n",
    "warnings.filterwarnings(\"ignore\")\n",
    "\n",
    "\n",
    "df_raw = pd.read_excel(\"season-data.xlsx\",engine='openpyxl', sheet_name=\"SAMPLE\", index_col=\"data\")\n",
    "\n",
    "SI = SeasonallyInput()\n",
    "\n",
    "# Actuals Table\n",
    "df = df_raw[df_raw.index[0]:df_raw.index[-1]].fillna(0)\n",
    "\n",
    "# trend_df = pd.DataFrame(index=df.index, columns=df.columns)\n",
    "# seasonal_df = pd.DataFrame(index=df.index, columns=df.columns)\n",
    "\n",
    "trend_df = pd.DataFrame(index=df.index)\n",
    "seasonal_df = pd.DataFrame(index=df.index)\n",
    "residual_df = pd.DataFrame(index=df.index)\n",
    "\n",
    "\n",
    "for name in df.columns:\n",
    "\n",
    "    iteration_df = df[(df[name] > 0)]\n",
    "\n",
    "    results = SI.seasonal_function(raw_dataframe=iteration_df, column_name=name)\n",
    "    results.trend.name = name\n",
    "    results.seasonal.name = name\n",
    "\n",
    "    trend_df = trend_df.merge(results.trend, left_index=True, right_index=True, how='left')\n",
    "    seasonal_df = seasonal_df.merge(results.seasonal, left_index=True, right_index=True, how='left')\n",
    "    residual_df = residual_df.merge(results.resid, left_index=True, right_index=True, how='left')\n",
    "\n",
    "    \n",
    "    # trend_df[name] = results.trend\n",
    "    # seasonal_df[name] = results.seasonal\n"
   ]
  },
  {
   "cell_type": "code",
   "execution_count": 11,
   "metadata": {},
   "outputs": [
    {
     "data": {
      "text/plain": [
       "DatetimeIndex(['2012-01-01', '2012-02-01', '2012-03-01', '2012-04-01',\n",
       "               '2012-05-01', '2012-06-01', '2012-07-01', '2012-08-01',\n",
       "               '2012-09-01', '2012-10-01',\n",
       "               ...\n",
       "               '2022-05-01', '2022-06-01', '2022-07-01', '2022-08-01',\n",
       "               '2022-09-01', '2022-10-01', '2022-11-01', '2022-12-01',\n",
       "               '2023-01-01', '2023-02-01'],\n",
       "              dtype='datetime64[ns]', name='data', length=134, freq=None)"
      ]
     },
     "execution_count": 11,
     "metadata": {},
     "output_type": "execute_result"
    }
   ],
   "source": [
    "df.index"
   ]
  },
  {
   "cell_type": "code",
   "execution_count": 23,
   "metadata": {},
   "outputs": [
    {
     "data": {
      "text/html": [
       "<div>\n",
       "<style scoped>\n",
       "    .dataframe tbody tr th:only-of-type {\n",
       "        vertical-align: middle;\n",
       "    }\n",
       "\n",
       "    .dataframe tbody tr th {\n",
       "        vertical-align: top;\n",
       "    }\n",
       "\n",
       "    .dataframe thead th {\n",
       "        text-align: right;\n",
       "    }\n",
       "</style>\n",
       "<table border=\"1\" class=\"dataframe\">\n",
       "  <thead>\n",
       "    <tr style=\"text-align: right;\">\n",
       "      <th></th>\n",
       "      <th>InitDate</th>\n",
       "      <th>LastDate</th>\n",
       "    </tr>\n",
       "  </thead>\n",
       "  <tbody>\n",
       "    <tr>\n",
       "      <th>Dates --&gt;</th>\n",
       "      <td>2012-01-01</td>\n",
       "      <td>2023-02-01</td>\n",
       "    </tr>\n",
       "  </tbody>\n",
       "</table>\n",
       "</div>"
      ],
      "text/plain": [
       "            InitDate   LastDate\n",
       "Dates --> 2012-01-01 2023-02-01"
      ]
     },
     "execution_count": 23,
     "metadata": {},
     "output_type": "execute_result"
    }
   ],
   "source": [
    "data_inicial = df.index.sort_values(ascending=True)[0]\n",
    "data_final = df.index.sort_values(ascending=False)[0]\n",
    "\n",
    "df_dict = {\n",
    "    \"InitDate\":data_inicial,\n",
    "    \"LastDate\":data_final\n",
    "}\n",
    "\n",
    "pd.DataFrame(df_dict, index=[\"Dates -->\"])"
   ]
  },
  {
   "cell_type": "code",
   "execution_count": null,
   "metadata": {},
   "outputs": [],
   "source": [
    "datas = \"Dates --> \"\n",
    "\n",
    "pd.DataFrame(columns=[\"Initial Date\", \"Last Date\"], values)"
   ]
  },
  {
   "cell_type": "code",
   "execution_count": 30,
   "metadata": {},
   "outputs": [
    {
     "data": {
      "text/plain": [
       "97"
      ]
     },
     "execution_count": 30,
     "metadata": {},
     "output_type": "execute_result"
    }
   ],
   "source": [
    "len(df_raw.columns.tolist())"
   ]
  },
  {
   "cell_type": "code",
   "execution_count": null,
   "metadata": {},
   "outputs": [],
   "source": []
  },
  {
   "cell_type": "code",
   "execution_count": null,
   "metadata": {},
   "outputs": [],
   "source": []
  },
  {
   "cell_type": "code",
   "execution_count": null,
   "metadata": {},
   "outputs": [],
   "source": []
  },
  {
   "cell_type": "code",
   "execution_count": null,
   "metadata": {},
   "outputs": [],
   "source": []
  },
  {
   "cell_type": "code",
   "execution_count": null,
   "metadata": {},
   "outputs": [],
   "source": []
  }
 ],
 "metadata": {
  "kernelspec": {
   "display_name": "base",
   "language": "python",
   "name": "python3"
  },
  "language_info": {
   "codemirror_mode": {
    "name": "ipython",
    "version": 3
   },
   "file_extension": ".py",
   "mimetype": "text/x-python",
   "name": "python",
   "nbconvert_exporter": "python",
   "pygments_lexer": "ipython3",
   "version": "3.11.2"
  },
  "orig_nbformat": 4
 },
 "nbformat": 4,
 "nbformat_minor": 2
}
